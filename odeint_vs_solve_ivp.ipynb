{
  "nbformat": 4,
  "nbformat_minor": 0,
  "metadata": {
    "colab": {
      "name": "Untitled3.ipynb",
      "provenance": [],
      "collapsed_sections": [],
      "include_colab_link": true
    },
    "kernelspec": {
      "name": "python3",
      "display_name": "Python 3"
    }
  },
  "cells": [
    {
      "cell_type": "markdown",
      "metadata": {
        "id": "view-in-github",
        "colab_type": "text"
      },
      "source": [
        "<a href=\"https://colab.research.google.com/github/nwkrix/pythonbasics/blob/master/odeint_vs_solve_ivp.ipynb\" target=\"_parent\"><img src=\"https://colab.research.google.com/assets/colab-badge.svg\" alt=\"Open In Colab\"/></a>"
      ]
    },
    {
      "cell_type": "code",
      "metadata": {
        "id": "-pIboae_rdE3",
        "colab_type": "code",
        "colab": {}
      },
      "source": [
        "#SOLVE A NONLINEAR MODEL USING ODEINT \n",
        "from scipy import integrate #odeint\n",
        "import matplotlib.pyplot as plt\n",
        "import numpy as np\n",
        "def model(state_vec, t): #note the order of state_vec & t\n",
        "    x,y,z = state_vec\n",
        "    return -0.1*x+0.15*x*z+0.18*y*z, 3.9*y-1.5*x*z-4, -4.9*z+2.5*x**2*y\n",
        "y0 = [1,3,8] # initial condition\n",
        "#t = [0,0.5e-4,1e-4,0.5e-3,1e-3,0.5e-2,1e-2,0.5e-1,1e-1,0.5e0,1e0]# t range defined manually\n",
        "t = np.linspace(0,0.2e2,1e4)\n",
        "states = integrate.odeint(model,y0,t) #odeint: model, y0 & t\n",
        "type(states)\n",
        "#plt.plot(t,states[:,0])\n",
        "#plt.plot(states[:,0],states[:,1])"
      ],
      "execution_count": 0,
      "outputs": []
    },
    {
      "cell_type": "code",
      "metadata": {
        "id": "s2Aeyd-ZumHz",
        "colab_type": "code",
        "colab": {}
      },
      "source": [
        "# SOLVE A NONLINEAR MODEL USING SOLVE_IVP\n",
        "from scipy import integrate # solve_ivp\n",
        "import matplotlib.pyplot as plt\n",
        "def model(t,state_vec): #note the order of state_vec & t\n",
        "    x,y,z = state_vec\n",
        "    return -0.1*x+0.15*x*z+0.18*y*z, 3.9*y-1.5*x*z-4, -4.9*z+2.5*x**2*y\n",
        "y0 = [1,3,8]\n",
        "states = integrate.solve_ivp(model,[0, 50],y0,rtol=1e-9) #solve_ivp: model, t, & y0\n",
        "#type(states)\n",
        "#plt.plot(states.t,states.y[0,:])\n",
        "#plt.plot(states.y[0,:],states.y[1,:])"
      ],
      "execution_count": 0,
      "outputs": []
    }
  ]
}