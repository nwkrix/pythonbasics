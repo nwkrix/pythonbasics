{
  "nbformat": 4,
  "nbformat_minor": 0,
  "metadata": {
    "colab": {
      "name": "Untitled7.ipynb",
      "provenance": [],
      "authorship_tag": "ABX9TyO8pC53Nj+R7AcfRsh39/BW",
      "include_colab_link": true
    },
    "kernelspec": {
      "name": "python3",
      "display_name": "Python 3"
    }
  },
  "cells": [
    {
      "cell_type": "markdown",
      "metadata": {
        "id": "view-in-github",
        "colab_type": "text"
      },
      "source": [
        "<a href=\"https://colab.research.google.com/github/nwkrix/pythonbasics/blob/master/1dlinearode.ipynb\" target=\"_parent\"><img src=\"https://colab.research.google.com/assets/colab-badge.svg\" alt=\"Open In Colab\"/></a>"
      ]
    },
    {
      "cell_type": "code",
      "metadata": {
        "id": "d9m2AH2WrCZe",
        "colab_type": "code",
        "colab": {
          "base_uri": "https://localhost:8080/",
          "height": 265
        },
        "outputId": "66f786d7-ac09-4e28-9b18-3d06b7eaca5c"
      },
      "source": [
        "\"\"\"\n",
        "Created on Mon Apr 13 00:30:53 2020\n",
        "Title: Solving a 1-D ordinary differential equation\n",
        "\"\"\"\n",
        "def fcn(t,x,k):\n",
        "    dydt = k*x\n",
        "    return dydt\n",
        "from scipy.integrate import solve_ivp\n",
        "def sol(Tend,ic,k):\n",
        "    w0 = [ic,]\n",
        "    w = solve_ivp(fcn,[0,Tend],w0,method='RK45',atol=1e-12,rtol=1e-6,args=(k,))\n",
        "    return w.t,w.y.T\n",
        "import matplotlib.pyplot as plt\n",
        "def plot(t,x):\n",
        "    plt.plot(t,x)\n",
        "#call example in Google Colab\n",
        "[t,x] = sol(5,0.1,-2)\n",
        "plot(t,x)"
      ],
      "execution_count": 2,
      "outputs": [
        {
          "output_type": "display_data",
          "data": {
            "image/png": "[encoded data removed]",
            "text/plain": [
              "<Figure size 432x288 with 1 Axes>"
            ]
          },
          "metadata": {
            "tags": [],
            "needs_background": "light"
          }
        }
      ]
    }
  ]
}