{
  "nbformat": 4,
  "nbformat_minor": 0,
  "metadata": {
    "colab": {
      "name": "Untitled3.ipynb",
      "provenance": [],
      "collapsed_sections": [],
      "include_colab_link": true
    },
    "kernelspec": {
      "name": "python3",
      "display_name": "Python 3"
    }
  },
  "cells": [
    {
      "cell_type": "markdown",
      "metadata": {
        "id": "view-in-github",
        "colab_type": "text"
      },
      "source": [
        "<a href=\"https://colab.research.google.com/github/nwkrix/pythonbasics/blob/pandas/apply_fcn.ipynb\" target=\"_parent\"><img src=\"https://colab.research.google.com/assets/colab-badge.svg\" alt=\"Open In Colab\"/></a>"
      ]
    },
    {
      "cell_type": "code",
      "metadata": {
        "id": "Y0ygYSNlm_NA",
        "colab_type": "code",
        "colab": {}
      },
      "source": [
        "import pandas as pd\n",
        "df = pd.read_csv(\"https://bit.ly/2Nr9enx\")\n",
        "def fcn(arg):\n",
        "    return arg*2\n",
        "df[\"AgeTimes2\"] = df.Age.apply(fcn) # df.Age is the input arg to the fcn\n",
        "df"
      ],
      "execution_count": 0,
      "outputs": []
    },
    {
      "cell_type": "code",
      "metadata": {
        "id": "l2JQDuVynEr2",
        "colab_type": "code",
        "colab": {
          "base_uri": "https://localhost:8080/",
          "height": 343
        },
        "outputId": "070dd5f4-7dab-4bb3-c899-521db8ba4b93"
      },
      "source": [
        "#Equivalently: using a lambda a fcn\n",
        "import pandas as pd\n",
        "Df = pd.read_csv(\"https://bit.ly/2Nr9enx\")\n",
        "Df[\"AgeTime2\"] = Df.Age.apply(lambda x: x*2) # Df.Age is the input to the lambda fcn with arg x:\n",
        "Df"
      ],
      "execution_count": 6,
      "outputs": [
        {
          "output_type": "execute_result",
          "data": {
            "text/html": [
              "<div>\n",
              "<style scoped>\n",
              "    .dataframe tbody tr th:only-of-type {\n",
              "        vertical-align: middle;\n",
              "    }\n",
              "\n",
              "    .dataframe tbody tr th {\n",
              "        vertical-align: top;\n",
              "    }\n",
              "\n",
              "    .dataframe thead th {\n",
              "        text-align: right;\n",
              "    }\n",
              "</style>\n",
              "<table border=\"1\" class=\"dataframe\">\n",
              "  <thead>\n",
              "    <tr style=\"text-align: right;\">\n",
              "      <th></th>\n",
              "      <th>Name</th>\n",
              "      <th>Sex</th>\n",
              "      <th>Age</th>\n",
              "      <th>Tickets</th>\n",
              "      <th>Fare</th>\n",
              "      <th>AgeTime2</th>\n",
              "    </tr>\n",
              "  </thead>\n",
              "  <tbody>\n",
              "    <tr>\n",
              "      <th>0</th>\n",
              "      <td>Barth Nnadi</td>\n",
              "      <td>M</td>\n",
              "      <td>23</td>\n",
              "      <td>A/2094</td>\n",
              "      <td>200.98</td>\n",
              "      <td>46</td>\n",
              "    </tr>\n",
              "    <tr>\n",
              "      <th>1</th>\n",
              "      <td>Yess Sada</td>\n",
              "      <td>F</td>\n",
              "      <td>18</td>\n",
              "      <td>A/2095</td>\n",
              "      <td>344.21</td>\n",
              "      <td>36</td>\n",
              "    </tr>\n",
              "    <tr>\n",
              "      <th>2</th>\n",
              "      <td>David Vega</td>\n",
              "      <td>M</td>\n",
              "      <td>17</td>\n",
              "      <td>A/2908</td>\n",
              "      <td>450.01</td>\n",
              "      <td>34</td>\n",
              "    </tr>\n",
              "    <tr>\n",
              "      <th>3</th>\n",
              "      <td>Diego Sanchez Paloma</td>\n",
              "      <td>M</td>\n",
              "      <td>29</td>\n",
              "      <td>B/2345</td>\n",
              "      <td>120.23</td>\n",
              "      <td>58</td>\n",
              "    </tr>\n",
              "    <tr>\n",
              "      <th>4</th>\n",
              "      <td>Maduabuchi Ekenedirichukwu</td>\n",
              "      <td>M</td>\n",
              "      <td>19</td>\n",
              "      <td>B/3456</td>\n",
              "      <td>500.43</td>\n",
              "      <td>38</td>\n",
              "    </tr>\n",
              "    <tr>\n",
              "      <th>5</th>\n",
              "      <td>Bartholomew James Perters</td>\n",
              "      <td>M</td>\n",
              "      <td>23</td>\n",
              "      <td>B/5678</td>\n",
              "      <td>245.90</td>\n",
              "      <td>46</td>\n",
              "    </tr>\n",
              "    <tr>\n",
              "      <th>6</th>\n",
              "      <td>Mary Magdalene Gonzales</td>\n",
              "      <td>F</td>\n",
              "      <td>25</td>\n",
              "      <td>B/0909</td>\n",
              "      <td>10.23</td>\n",
              "      <td>50</td>\n",
              "    </tr>\n",
              "    <tr>\n",
              "      <th>7</th>\n",
              "      <td>Janet Woodson</td>\n",
              "      <td>F</td>\n",
              "      <td>23</td>\n",
              "      <td>B/2303</td>\n",
              "      <td>100.10</td>\n",
              "      <td>46</td>\n",
              "    </tr>\n",
              "    <tr>\n",
              "      <th>8</th>\n",
              "      <td>Pascal Ignatius</td>\n",
              "      <td>M</td>\n",
              "      <td>33</td>\n",
              "      <td>B/100</td>\n",
              "      <td>800.05</td>\n",
              "      <td>66</td>\n",
              "    </tr>\n",
              "    <tr>\n",
              "      <th>9</th>\n",
              "      <td>Nneka Obieze</td>\n",
              "      <td>F</td>\n",
              "      <td>12</td>\n",
              "      <td>C/0034</td>\n",
              "      <td>1.32</td>\n",
              "      <td>24</td>\n",
              "    </tr>\n",
              "  </tbody>\n",
              "</table>\n",
              "</div>"
            ],
            "text/plain": [
              "                         Name Sex  Age  Tickets    Fare  AgeTime2\n",
              "0                 Barth Nnadi   M   23   A/2094  200.98        46\n",
              "1                   Yess Sada   F   18   A/2095  344.21        36\n",
              "2                  David Vega   M   17   A/2908  450.01        34\n",
              "3        Diego Sanchez Paloma   M   29   B/2345  120.23        58\n",
              "4  Maduabuchi Ekenedirichukwu   M   19   B/3456  500.43        38\n",
              "5   Bartholomew James Perters   M   23   B/5678  245.90        46\n",
              "6     Mary Magdalene Gonzales   F   25   B/0909   10.23        50\n",
              "7               Janet Woodson   F   23   B/2303  100.10        46\n",
              "8             Pascal Ignatius   M   33    B/100  800.05        66\n",
              "9                Nneka Obieze   F   12   C/0034    1.32        24"
            ]
          },
          "metadata": {
            "tags": []
          },
          "execution_count": 6
        }
      ]
    }
  ]
}