{
  "nbformat": 4,
  "nbformat_minor": 0,
  "metadata": {
    "colab": {
      "name": "dframeimport_and_handling.ipynb",
      "provenance": [],
      "collapsed_sections": [],
      "include_colab_link": true
    },
    "kernelspec": {
      "name": "python3",
      "display_name": "Python 3"
    }
  },
  "cells": [
    {
      "cell_type": "markdown",
      "metadata": {
        "id": "view-in-github",
        "colab_type": "text"
      },
      "source": [
        "<a href=\"https://colab.research.google.com/github/nwkrix/pythonbasics/blob/pandas/dframeimport_and_handling.ipynb\" target=\"_parent\"><img src=\"https://colab.research.google.com/assets/colab-badge.svg\" alt=\"Open In Colab\"/></a>"
      ]
    },
    {
      "cell_type": "markdown",
      "metadata": {
        "id": "2MUt5vkV8XGT",
        "colab_type": "text"
      },
      "source": [
        "Import csv from the web and manipulate the corresponding DataFrame"
      ]
    },
    {
      "cell_type": "code",
      "metadata": {
        "id": "29TPPgyF8q3b",
        "colab_type": "code",
        "colab": {
          "base_uri": "https://localhost:8080/",
          "height": 314
        },
        "outputId": "57486f0c-75e6-467f-f09c-4c47b7c0b277"
      },
      "source": [
        "import pandas as pd\n",
        "importData = pd.read_csv(\"https://bit.ly/2JxRhCY\")\n",
        "importData "
      ],
      "execution_count": 60,
      "outputs": [
        {
          "output_type": "execute_result",
          "data": {
            "text/html": [
              "<div>\n",
              "<style scoped>\n",
              "    .dataframe tbody tr th:only-of-type {\n",
              "        vertical-align: middle;\n",
              "    }\n",
              "\n",
              "    .dataframe tbody tr th {\n",
              "        vertical-align: top;\n",
              "    }\n",
              "\n",
              "    .dataframe thead th {\n",
              "        text-align: right;\n",
              "    }\n",
              "</style>\n",
              "<table border=\"1\" class=\"dataframe\">\n",
              "  <thead>\n",
              "    <tr style=\"text-align: right;\">\n",
              "      <th></th>\n",
              "      <th>Name</th>\n",
              "      <th>Sex</th>\n",
              "      <th>Age</th>\n",
              "      <th>City</th>\n",
              "      <th>Donation</th>\n",
              "    </tr>\n",
              "  </thead>\n",
              "  <tbody>\n",
              "    <tr>\n",
              "      <th>0</th>\n",
              "      <td>John, Dough</td>\n",
              "      <td>M</td>\n",
              "      <td>25</td>\n",
              "      <td>NY</td>\n",
              "      <td>3456.98</td>\n",
              "    </tr>\n",
              "    <tr>\n",
              "      <th>1</th>\n",
              "      <td>Okafor, Chichi</td>\n",
              "      <td>F</td>\n",
              "      <td>18</td>\n",
              "      <td>EN</td>\n",
              "      <td>1294.15</td>\n",
              "    </tr>\n",
              "    <tr>\n",
              "      <th>2</th>\n",
              "      <td>Mandy, Atras</td>\n",
              "      <td>F</td>\n",
              "      <td>26</td>\n",
              "      <td>MXC</td>\n",
              "      <td>5670.27</td>\n",
              "    </tr>\n",
              "    <tr>\n",
              "      <th>3</th>\n",
              "      <td>Nwanne, Amaka</td>\n",
              "      <td>F</td>\n",
              "      <td>19</td>\n",
              "      <td>AN</td>\n",
              "      <td>231.78</td>\n",
              "    </tr>\n",
              "    <tr>\n",
              "      <th>4</th>\n",
              "      <td>Littletown, Kelechi</td>\n",
              "      <td>M</td>\n",
              "      <td>28</td>\n",
              "      <td>ISB</td>\n",
              "      <td>985.20</td>\n",
              "    </tr>\n",
              "    <tr>\n",
              "      <th>5</th>\n",
              "      <td>Odi, Nta</td>\n",
              "      <td>M</td>\n",
              "      <td>30</td>\n",
              "      <td>ABJ</td>\n",
              "      <td>143.12</td>\n",
              "    </tr>\n",
              "    <tr>\n",
              "      <th>6</th>\n",
              "      <td>Ali, Janet</td>\n",
              "      <td>F</td>\n",
              "      <td>19</td>\n",
              "      <td>LD</td>\n",
              "      <td>876.11</td>\n",
              "    </tr>\n",
              "    <tr>\n",
              "      <th>7</th>\n",
              "      <td>Thomson, Tracy</td>\n",
              "      <td>F</td>\n",
              "      <td>17</td>\n",
              "      <td>CA</td>\n",
              "      <td>34.56</td>\n",
              "    </tr>\n",
              "    <tr>\n",
              "      <th>8</th>\n",
              "      <td>Vega, Yess</td>\n",
              "      <td>F</td>\n",
              "      <td>24</td>\n",
              "      <td>HA</td>\n",
              "      <td>234.65</td>\n",
              "    </tr>\n",
              "  </tbody>\n",
              "</table>\n",
              "</div>"
            ],
            "text/plain": [
              "                  Name Sex  Age City  Donation\n",
              "0          John, Dough   M   25   NY   3456.98\n",
              "1       Okafor, Chichi   F   18   EN   1294.15\n",
              "2         Mandy, Atras   F   26  MXC   5670.27\n",
              "3        Nwanne, Amaka   F   19   AN    231.78\n",
              "4  Littletown, Kelechi   M   28  ISB    985.20\n",
              "5             Odi, Nta   M   30  ABJ    143.12\n",
              "6           Ali, Janet   F   19   LD    876.11\n",
              "7       Thomson, Tracy   F   17   CA     34.56\n",
              "8           Vega, Yess   F   24   HA    234.65"
            ]
          },
          "metadata": {
            "tags": []
          },
          "execution_count": 60
        }
      ]
    },
    {
      "cell_type": "code",
      "metadata": {
        "id": "3vRIJdgb9yUC",
        "colab_type": "code",
        "colab": {
          "base_uri": "https://localhost:8080/",
          "height": 185
        },
        "outputId": "338a2c36-f8a3-4b70-b567-5242d9808349"
      },
      "source": [
        "# Selects a series from the DataFrame, importData\n",
        "importData.Name"
      ],
      "execution_count": 5,
      "outputs": [
        {
          "output_type": "execute_result",
          "data": {
            "text/plain": [
              "0            John, Dough\n",
              "1         Okafor, Chichi\n",
              "2           Mandy, Atras\n",
              "3          Nwanne, Amaka\n",
              "4    Littletown, Kelechi\n",
              "5               Odi, Nta\n",
              "6             Ali, Janet\n",
              "7         Thomson, Tracy\n",
              "8             Vega, Yess\n",
              "Name: Name, dtype: object"
            ]
          },
          "metadata": {
            "tags": []
          },
          "execution_count": 5
        }
      ]
    },
    {
      "cell_type": "code",
      "metadata": {
        "id": "nR8EWYhc-PHg",
        "colab_type": "code",
        "colab": {
          "base_uri": "https://localhost:8080/",
          "height": 185
        },
        "outputId": "205de513-159b-4387-a337-2424cf5a9e92"
      },
      "source": [
        "# Details about DataFrame & Series\n",
        "importData.info()"
      ],
      "execution_count": 18,
      "outputs": [
        {
          "output_type": "stream",
          "text": [
            "<class 'pandas.core.frame.DataFrame'>\n",
            "RangeIndex: 9 entries, 0 to 8\n",
            "Data columns (total 5 columns):\n",
            "Name        9 non-null object\n",
            "Sex         9 non-null object\n",
            "Age         9 non-null int64\n",
            "City        9 non-null object\n",
            "Donation    9 non-null float64\n",
            "dtypes: float64(1), int64(1), object(3)\n",
            "memory usage: 488.0+ bytes\n"
          ],
          "name": "stdout"
        }
      ]
    },
    {
      "cell_type": "code",
      "metadata": {
        "id": "ovLVvAq5_Q6b",
        "colab_type": "code",
        "colab": {
          "base_uri": "https://localhost:8080/",
          "height": 67
        },
        "outputId": "9454dc1e-7620-4297-fc47-c583f701f7a8"
      },
      "source": [
        "# Selects only Name from DataFrame from index 7 to the very last\n",
        "importData.loc[7:,\"Name\"] "
      ],
      "execution_count": 29,
      "outputs": [
        {
          "output_type": "execute_result",
          "data": {
            "text/plain": [
              "7    Thomson, Tracy\n",
              "8        Vega, Yess\n",
              "Name: Name, dtype: object"
            ]
          },
          "metadata": {
            "tags": []
          },
          "execution_count": 29
        }
      ]
    },
    {
      "cell_type": "code",
      "metadata": {
        "id": "DJokb1BfB07K",
        "colab_type": "code",
        "colab": {
          "base_uri": "https://localhost:8080/",
          "height": 185
        },
        "outputId": "6b9bedac-7f4b-4ad8-e08a-35ae090a6acb"
      },
      "source": [
        "# Isolate family name from Series importDate.Name\n",
        "splitName = importData.Name.str.split(',') # note that this is possible because the csv is such that Name has a comma between family name and first name\n",
        "FamilyName = splitName.apply(lambda x: x[0]) # using lambda fcn, you can as well define your fcn\n",
        "FamilyName"
      ],
      "execution_count": 61,
      "outputs": [
        {
          "output_type": "execute_result",
          "data": {
            "text/plain": [
              "0          John\n",
              "1        Okafor\n",
              "2         Mandy\n",
              "3        Nwanne\n",
              "4    Littletown\n",
              "5           Odi\n",
              "6           Ali\n",
              "7       Thomson\n",
              "8          Vega\n",
              "Name: Name, dtype: object"
            ]
          },
          "metadata": {
            "tags": []
          },
          "execution_count": 61
        }
      ]
    },
    {
      "cell_type": "code",
      "metadata": {
        "id": "M6scvBRXEsBR",
        "colab_type": "code",
        "colab": {
          "base_uri": "https://localhost:8080/",
          "height": 314
        },
        "outputId": "9ea8a0f1-adb4-4c67-f402-94d61e9f3171"
      },
      "source": [
        "# Add new column to the DataFrame (Let's add the FamilyName above in a new column)\n",
        "importData[\"Surname\"] = FamilyName\n",
        "importData"
      ],
      "execution_count": 62,
      "outputs": [
        {
          "output_type": "execute_result",
          "data": {
            "text/html": [
              "<div>\n",
              "<style scoped>\n",
              "    .dataframe tbody tr th:only-of-type {\n",
              "        vertical-align: middle;\n",
              "    }\n",
              "\n",
              "    .dataframe tbody tr th {\n",
              "        vertical-align: top;\n",
              "    }\n",
              "\n",
              "    .dataframe thead th {\n",
              "        text-align: right;\n",
              "    }\n",
              "</style>\n",
              "<table border=\"1\" class=\"dataframe\">\n",
              "  <thead>\n",
              "    <tr style=\"text-align: right;\">\n",
              "      <th></th>\n",
              "      <th>Name</th>\n",
              "      <th>Sex</th>\n",
              "      <th>Age</th>\n",
              "      <th>City</th>\n",
              "      <th>Donation</th>\n",
              "      <th>Surname</th>\n",
              "    </tr>\n",
              "  </thead>\n",
              "  <tbody>\n",
              "    <tr>\n",
              "      <th>0</th>\n",
              "      <td>John, Dough</td>\n",
              "      <td>M</td>\n",
              "      <td>25</td>\n",
              "      <td>NY</td>\n",
              "      <td>3456.98</td>\n",
              "      <td>John</td>\n",
              "    </tr>\n",
              "    <tr>\n",
              "      <th>1</th>\n",
              "      <td>Okafor, Chichi</td>\n",
              "      <td>F</td>\n",
              "      <td>18</td>\n",
              "      <td>EN</td>\n",
              "      <td>1294.15</td>\n",
              "      <td>Okafor</td>\n",
              "    </tr>\n",
              "    <tr>\n",
              "      <th>2</th>\n",
              "      <td>Mandy, Atras</td>\n",
              "      <td>F</td>\n",
              "      <td>26</td>\n",
              "      <td>MXC</td>\n",
              "      <td>5670.27</td>\n",
              "      <td>Mandy</td>\n",
              "    </tr>\n",
              "    <tr>\n",
              "      <th>3</th>\n",
              "      <td>Nwanne, Amaka</td>\n",
              "      <td>F</td>\n",
              "      <td>19</td>\n",
              "      <td>AN</td>\n",
              "      <td>231.78</td>\n",
              "      <td>Nwanne</td>\n",
              "    </tr>\n",
              "    <tr>\n",
              "      <th>4</th>\n",
              "      <td>Littletown, Kelechi</td>\n",
              "      <td>M</td>\n",
              "      <td>28</td>\n",
              "      <td>ISB</td>\n",
              "      <td>985.20</td>\n",
              "      <td>Littletown</td>\n",
              "    </tr>\n",
              "    <tr>\n",
              "      <th>5</th>\n",
              "      <td>Odi, Nta</td>\n",
              "      <td>M</td>\n",
              "      <td>30</td>\n",
              "      <td>ABJ</td>\n",
              "      <td>143.12</td>\n",
              "      <td>Odi</td>\n",
              "    </tr>\n",
              "    <tr>\n",
              "      <th>6</th>\n",
              "      <td>Ali, Janet</td>\n",
              "      <td>F</td>\n",
              "      <td>19</td>\n",
              "      <td>LD</td>\n",
              "      <td>876.11</td>\n",
              "      <td>Ali</td>\n",
              "    </tr>\n",
              "    <tr>\n",
              "      <th>7</th>\n",
              "      <td>Thomson, Tracy</td>\n",
              "      <td>F</td>\n",
              "      <td>17</td>\n",
              "      <td>CA</td>\n",
              "      <td>34.56</td>\n",
              "      <td>Thomson</td>\n",
              "    </tr>\n",
              "    <tr>\n",
              "      <th>8</th>\n",
              "      <td>Vega, Yess</td>\n",
              "      <td>F</td>\n",
              "      <td>24</td>\n",
              "      <td>HA</td>\n",
              "      <td>234.65</td>\n",
              "      <td>Vega</td>\n",
              "    </tr>\n",
              "  </tbody>\n",
              "</table>\n",
              "</div>"
            ],
            "text/plain": [
              "                  Name Sex  Age City  Donation     Surname\n",
              "0          John, Dough   M   25   NY   3456.98        John\n",
              "1       Okafor, Chichi   F   18   EN   1294.15      Okafor\n",
              "2         Mandy, Atras   F   26  MXC   5670.27       Mandy\n",
              "3        Nwanne, Amaka   F   19   AN    231.78      Nwanne\n",
              "4  Littletown, Kelechi   M   28  ISB    985.20  Littletown\n",
              "5             Odi, Nta   M   30  ABJ    143.12         Odi\n",
              "6           Ali, Janet   F   19   LD    876.11         Ali\n",
              "7       Thomson, Tracy   F   17   CA     34.56     Thomson\n",
              "8           Vega, Yess   F   24   HA    234.65        Vega"
            ]
          },
          "metadata": {
            "tags": []
          },
          "execution_count": 62
        }
      ]
    }
  ]
}